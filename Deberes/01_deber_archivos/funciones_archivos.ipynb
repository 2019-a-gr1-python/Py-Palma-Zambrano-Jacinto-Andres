{
 "cells": [
  {
   "cell_type": "code",
   "execution_count": 1,
   "metadata": {},
   "outputs": [],
   "source": [
    "def leer_archivo(path):\n",
    "    try:\n",
    "        lineas = []\n",
    "        archivo = open(path)  # Defecto es 'r'\n",
    "        arreglo_lienas_archivo = archivo.readlines()\n",
    "        for linea in arreglo_lienas_archivo:\n",
    "            lineas.append(linea)\n",
    "        archivo.close()\n",
    "        return lineas\n",
    "    except Exception:\n",
    "        print(\"No se puede leer el archivo: \" + path)"
   ]
  },
  {
   "cell_type": "code",
   "execution_count": null,
   "metadata": {},
   "outputs": [],
   "source": []
  }
 ],
 "metadata": {
  "kernelspec": {
   "display_name": "Python 3",
   "language": "python",
   "name": "python3"
  },
  "language_info": {
   "codemirror_mode": {
    "name": "ipython",
    "version": 3
   },
   "file_extension": ".py",
   "mimetype": "text/x-python",
   "name": "python",
   "nbconvert_exporter": "python",
   "pygments_lexer": "ipython3",
   "version": "3.7.1"
  }
 },
 "nbformat": 4,
 "nbformat_minor": 2
}
