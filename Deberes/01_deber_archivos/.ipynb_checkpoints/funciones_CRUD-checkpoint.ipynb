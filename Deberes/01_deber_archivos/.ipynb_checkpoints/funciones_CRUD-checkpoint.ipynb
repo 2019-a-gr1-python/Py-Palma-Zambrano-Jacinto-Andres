{
 "cells": [
  {
   "cell_type": "code",
   "execution_count": null,
   "metadata": {},
   "outputs": [],
   "source": [
    "import funciones_archivos\n",
    "\n",
    "\n",
    "def obtener_lista_campeones():\n",
    "    archivo_campeones = manejo_archivos.leer_archivos('./campeones.txt')\n",
    "    champ = []\n",
    "    for cadena in archivo_campeoness:\n",
    "        champ.append(transformar.cadenatexto_a_diccionariozapato(cadena))\n",
    "    return champ\n",
    "\n",
    "def cadena_diccionario(linea):\n",
    "    partes_linea = (linea + \"\").replace(\"\\n\", \"\").split(';')\n",
    "    champ = {\n",
    "        'nombre': partes_linea[0],\n",
    "        'rol': partes_linea[1],\n",
    "        'item_inicial': partes_linea[2],\n",
    "        'item_core': int(partes_linea[3])\n",
    "        \n",
    "    }\n",
    "    return champ"
   ]
  }
 ],
 "metadata": {
  "kernelspec": {
   "display_name": "Python 3",
   "language": "python",
   "name": "python3"
  },
  "language_info": {
   "codemirror_mode": {
    "name": "ipython",
    "version": 3
   },
   "file_extension": ".py",
   "mimetype": "text/x-python",
   "name": "python",
   "nbconvert_exporter": "python",
   "pygments_lexer": "ipython3",
   "version": "3.7.1"
  }
 },
 "nbformat": 4,
 "nbformat_minor": 2
}
