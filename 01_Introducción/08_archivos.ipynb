{
 "cells": [
  {
   "cell_type": "code",
   "execution_count": 1,
   "metadata": {},
   "outputs": [
    {
     "name": "stdout",
     "output_type": "stream",
     "text": [
      "<_io.TextIOWrapper name='./08_archivos.txt' mode='r' encoding='cp1252'>\n",
      "<class '_io.TextIOWrapper'>\n",
      "['Buenas nochesBuenos diasBuenos tardesBuenos noche\\n', 'Buenos noche\\n', 'Buenos noche\\n', 'Buenos noche\\n', 'Buenos noche\\n', 'Buenos noche\\n', 'Buenos noche\\n', 'Buenos noche\\n', 'Buenos noche\\n', 'Buenos noche\\n', 'hola\\n', 'mundo']\n",
      "<class 'list'>\n",
      "Buenas nochesBuenos diasBuenos tardesBuenos noche\n",
      "\n",
      "Buenos noche\n",
      "\n",
      "Buenos noche\n",
      "\n",
      "Buenos noche\n",
      "\n",
      "Buenos noche\n",
      "\n",
      "Buenos noche\n",
      "\n",
      "Buenos noche\n",
      "\n",
      "Buenos noche\n",
      "\n",
      "Buenos noche\n",
      "\n",
      "Buenos noche\n",
      "\n",
      "hola\n",
      "\n",
      "mundo\n"
     ]
    }
   ],
   "source": [
    "try:\n",
    "    path = './08_archivos.txt'\n",
    "    archivo_abierto = open(path)\n",
    "    print(archivo_abierto)\n",
    "    print(type(archivo_abierto))\n",
    "    \n",
    "    # linea_leida_uno = archivo_abierto.readline()\n",
    "    # print(linea_leida)\n",
    "    # print(type(linea_leida))\n",
    "    \n",
    "    # linea_leida_dos = archivo_abierto.readline()\n",
    "    # print(linea_leida_dos)\n",
    "    # print(type(linea_leida_dos))\n",
    "    \n",
    "    lineas_archivo = archivo_abierto.readlines()\n",
    "    \n",
    "    print(lineas_archivo)\n",
    "    print(type(lineas_archivo))\n",
    "    \n",
    "    for linea in lineas_archivo:\n",
    "        print(linea)\n",
    "    \n",
    "    archivo_abierto.close()\n",
    "except:\n",
    "    print('Error leyendo archivo')"
   ]
  },
  {
   "cell_type": "code",
   "execution_count": 2,
   "metadata": {},
   "outputs": [],
   "source": [
    "try:\n",
    "    path = './08_archivos.txt'\n",
    "    archivo_escritura_abierto = open(path, mode='a')\n",
    "    # a -> Append y anade el contenido al final\n",
    "    # w -> Sobre escribe el contenido\n",
    "    archivo_escritura_abierto.write('Prueba de Cierre\\n')\n",
    "    archivo_escritura_abierto.writelines(['CIAO\\n','BYE\\n'])\n",
    "    archivo_escritura_abierto.close()\n",
    "except:\n",
    "    print('Error leyendo archivo')"
   ]
  },
  {
   "cell_type": "code",
   "execution_count": null,
   "metadata": {},
   "outputs": [],
   "source": []
  }
 ],
 "metadata": {
  "kernelspec": {
   "display_name": "Python 3",
   "language": "python",
   "name": "python3"
  },
  "language_info": {
   "codemirror_mode": {
    "name": "ipython",
    "version": 3
   },
   "file_extension": ".py",
   "mimetype": "text/x-python",
   "name": "python",
   "nbconvert_exporter": "python",
   "pygments_lexer": "ipython3",
   "version": "3.7.1"
  }
 },
 "nbformat": 4,
 "nbformat_minor": 2
}
