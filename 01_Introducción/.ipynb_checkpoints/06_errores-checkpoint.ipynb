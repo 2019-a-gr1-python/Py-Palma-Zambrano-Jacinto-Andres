{
 "cells": [
  {
   "cell_type": "code",
   "execution_count": 1,
   "metadata": {},
   "outputs": [],
   "source": [
    "#Errores"
   ]
  },
  {
   "cell_type": "code",
   "execution_count": 5,
   "metadata": {},
   "outputs": [],
   "source": [
    "jacinto ={\n",
    "    'nombre':'Jacinto',\n",
    "}"
   ]
  },
  {
   "cell_type": "code",
   "execution_count": 6,
   "metadata": {},
   "outputs": [],
   "source": [
    "#jacinto['asd'] -> key error\n",
    "# ++ -> SyntaxError\n",
    "# asd.asd -> Name Error\n",
    "# \"1\"+1 -> Type Error"
   ]
  },
  {
   "cell_type": "code",
   "execution_count": 8,
   "metadata": {},
   "outputs": [
    {
     "name": "stdout",
     "output_type": "stream",
     "text": [
      "Error: 'asd'\n",
      "Traceback: <traceback object at 0x10d8ad888>\n"
     ]
    }
   ],
   "source": [
    "#Atrapar errores\n",
    "try:\n",
    "    jacinto['asd']\n",
    "except Exception as error:\n",
    "    print(f\"Error: {error} KEY ERROR\")\n",
    "    print(f\"Traceback: {error.__traceback__}\")\n",
    "    "
   ]
  },
  {
   "cell_type": "code",
   "execution_count": 10,
   "metadata": {},
   "outputs": [
    {
     "name": "stdout",
     "output_type": "stream",
     "text": [
      "Jacinto\n",
      "Error: name 'asd' is not defined NAME ERROR\n"
     ]
    }
   ],
   "source": [
    "try:\n",
    "    print(jacinto['nombre'])\n",
    "    asd.asd\n",
    "except (NameError) as nameError:\n",
    "    print(f\"Error: {nameError} NAME ERROR\")\n",
    "except Exception as error:\n",
    "    print(f\"Error: {error} KEY ERROR\")\n",
    "    print(f\"Traceback: {error.__traceback__}\")\n",
    "    "
   ]
  },
  {
   "cell_type": "code",
   "execution_count": 12,
   "metadata": {},
   "outputs": [
    {
     "name": "stdout",
     "output_type": "stream",
     "text": [
      "Jacinto\n",
      "Error: can only concatenate str (not \"int\") to str TYPE ERROR\n"
     ]
    }
   ],
   "source": [
    "try:\n",
    "    print(jacinto['nombre'])\n",
    "    \"1\"+1\n",
    "    asd.asd\n",
    "except (NameError) as nameError:\n",
    "    print(f\"Error: {nameError} NAME ERROR\")\n",
    "except (TypeError) as typeError:\n",
    "    print(f\"Error: {typeError} TYPE ERROR\")\n",
    "except Exception as error:\n",
    "    print(f\"Error: {error} KEY ERROR\")\n",
    "    print(f\"Traceback: {error.__traceback__}\")"
   ]
  },
  {
   "cell_type": "code",
   "execution_count": 14,
   "metadata": {},
   "outputs": [
    {
     "name": "stdout",
     "output_type": "stream",
     "text": [
      "Jacinto\n",
      "Error: 'asd' KEY ERROR\n"
     ]
    }
   ],
   "source": [
    "try:\n",
    "    print(jacinto['nombre'])\n",
    "    jacinto['asd']\n",
    "    \"1\"+1\n",
    "    asd.asd\n",
    "except (NameError) as nameError:\n",
    "    print(f\"Error: {nameError} NAME ERROR\")\n",
    "except (TypeError) as typeError:\n",
    "    print(f\"Error: {typeError} TYPE ERROR\")\n",
    "except (KeyError) as keyError:\n",
    "    print(f\"Error: {keyError} KEY ERROR\")\n",
    "except Exception as error:\n",
    "    print(f\"Error: {error} GENERAL ERROR\")\n",
    "    print(f\"Traceback: {error.__traceback__}\")"
   ]
  },
  {
   "cell_type": "code",
   "execution_count": 15,
   "metadata": {},
   "outputs": [
    {
     "name": "stdout",
     "output_type": "stream",
     "text": [
      "Jacinto\n",
      "Error: 'asd' TYPE OR KEY ERROR\n"
     ]
    }
   ],
   "source": [
    "try:\n",
    "    print(jacinto['nombre'])\n",
    "    jacinto['asd']\n",
    "    \"1\"+1\n",
    "    asd.asd\n",
    "except (NameError) as nameError:\n",
    "    print(f\"Error: {nameError} NAME ERROR\")\n",
    "except (TypeError,KeyError) as typeError:\n",
    "    print(f\"Error: {typeError} TYPE OR KEY ERROR\")\n",
    "except Exception as error:\n",
    "    print(f\"Error: {error} GENERAL ERROR\")\n",
    "    print(f\"Traceback: {error.__traceback__}\")"
   ]
  },
  {
   "cell_type": "code",
   "execution_count": null,
   "metadata": {},
   "outputs": [],
   "source": []
  }
 ],
 "metadata": {
  "kernelspec": {
   "display_name": "Python 3",
   "language": "python",
   "name": "python3"
  },
  "language_info": {
   "codemirror_mode": {
    "name": "ipython",
    "version": 3
   },
   "file_extension": ".py",
   "mimetype": "text/x-python",
   "name": "python",
   "nbconvert_exporter": "python",
   "pygments_lexer": "ipython3",
   "version": "3.7.1"
  }
 },
 "nbformat": 4,
 "nbformat_minor": 2
}
